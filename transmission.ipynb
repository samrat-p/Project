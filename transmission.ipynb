{
 "cells": [
  {
   "cell_type": "markdown",
   "id": "65f66607",
   "metadata": {},
   "source": [
    "# Transmission\n",
    "----\n",
    "\n",
    "During the cipher image transmission through local channel, the cipher image can be corrupted by some atmospheric disturbance. This can effect the decrypted image and some pixel will get distorted. To reduce this, in this section we will add some noise manually and try to restore the original image after decryption. "
   ]
  },
  {
   "cell_type": "code",
   "execution_count": null,
   "id": "90e6ac05",
   "metadata": {},
   "outputs": [],
   "source": []
  }
 ],
 "metadata": {
  "kernelspec": {
   "display_name": "Python 3 (ipykernel)",
   "language": "python",
   "name": "python3"
  },
  "language_info": {
   "codemirror_mode": {
    "name": "ipython",
    "version": 3
   },
   "file_extension": ".py",
   "mimetype": "text/x-python",
   "name": "python",
   "nbconvert_exporter": "python",
   "pygments_lexer": "ipython3",
   "version": "3.8.9"
  }
 },
 "nbformat": 4,
 "nbformat_minor": 5
}
